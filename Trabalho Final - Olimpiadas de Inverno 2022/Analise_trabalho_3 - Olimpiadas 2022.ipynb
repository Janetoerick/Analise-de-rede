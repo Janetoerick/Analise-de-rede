{
  "cells": [
    {
      "cell_type": "markdown",
      "metadata": {
        "id": "bzUkn2FZD7p4"
      },
      "source": [
        "## Imports required to use Twitter developer data"
      ]
    },
    {
      "cell_type": "code",
      "execution_count": null,
      "metadata": {
        "colab": {
          "base_uri": "https://localhost:8080/"
        },
        "id": "YhTp1WWhDRrQ",
        "outputId": "7198cb44-2818-4ff4-b291-7a03c9ca2ae3"
      },
      "outputs": [
        {
          "name": "stdout",
          "output_type": "stream",
          "text": [
            "Collecting Twython\n",
            "  Downloading twython-3.9.1-py3-none-any.whl (33 kB)\n",
            "Requirement already satisfied: requests>=2.1.0 in /usr/local/lib/python3.7/dist-packages (from Twython) (2.23.0)\n",
            "Requirement already satisfied: requests-oauthlib>=0.4.0 in /usr/local/lib/python3.7/dist-packages (from Twython) (1.3.1)\n",
            "Requirement already satisfied: urllib3!=1.25.0,!=1.25.1,<1.26,>=1.21.1 in /usr/local/lib/python3.7/dist-packages (from requests>=2.1.0->Twython) (1.24.3)\n",
            "Requirement already satisfied: certifi>=2017.4.17 in /usr/local/lib/python3.7/dist-packages (from requests>=2.1.0->Twython) (2021.10.8)\n",
            "Requirement already satisfied: chardet<4,>=3.0.2 in /usr/local/lib/python3.7/dist-packages (from requests>=2.1.0->Twython) (3.0.4)\n",
            "Requirement already satisfied: idna<3,>=2.5 in /usr/local/lib/python3.7/dist-packages (from requests>=2.1.0->Twython) (2.10)\n",
            "Requirement already satisfied: oauthlib>=3.0.0 in /usr/local/lib/python3.7/dist-packages (from requests-oauthlib>=0.4.0->Twython) (3.2.0)\n",
            "Installing collected packages: Twython\n",
            "Successfully installed Twython-3.9.1\n"
          ]
        }
      ],
      "source": [
        "!pip install Twython"
      ]
    },
    {
      "cell_type": "code",
      "execution_count": 1,
      "metadata": {
        "id": "tU2A7mMoDquJ"
      },
      "outputs": [],
      "source": [
        "from twython import Twython, TwythonError\n",
        "import pandas as pd\n",
        "import networkx as nx"
      ]
    },
    {
      "cell_type": "markdown",
      "metadata": {
        "id": "tGpHllUFD_SH"
      },
      "source": [
        "# Authenticating on Twitter Developer"
      ]
    },
    {
      "cell_type": "code",
      "execution_count": null,
      "metadata": {
        "id": "ZcUPoDa3JnsN"
      },
      "outputs": [],
      "source": [
        "# open the keys file\n",
        "my_file = open(\"keys.txt\", \"r\")\n",
        "\n",
        "# read the raw data\n",
        "content = my_file.read()\n",
        "\n",
        "# split all lines by  newline character\n",
        "API_KEY, API_SECRET_KEY = content.split(\"\\n\")\n",
        "\n",
        "# close the file\n",
        "my_file.close()"
      ]
    },
    {
      "cell_type": "code",
      "execution_count": null,
      "metadata": {
        "colab": {
          "base_uri": "https://localhost:8080/"
        },
        "id": "JmUqjiEgJonG",
        "outputId": "9f07baea-2d6e-4e02-ce3f-304cdb05da24"
      },
      "outputs": [
        {
          "name": "stdout",
          "output_type": "stream",
          "text": [
            "https://api.twitter.com/oauth/authenticate?oauth_token=WC5HYAAAAAABY66kAAABfv3MbIU\n"
          ]
        }
      ],
      "source": [
        "twitter = Twython(API_KEY, API_SECRET_KEY)\n",
        "\n",
        "authentication_tokens = twitter.get_authentication_tokens()\n",
        "print(authentication_tokens['auth_url'])"
      ]
    },
    {
      "cell_type": "code",
      "execution_count": null,
      "metadata": {
        "id": "QaHP4qksJ07W"
      },
      "outputs": [],
      "source": [
        "# Replace the verifier with the pin number obtained with your web browser in the previous step\n",
        "VERIFIER = '2461519'\n",
        "\n",
        "twitter = Twython(API_KEY, API_SECRET_KEY,\n",
        "                  authentication_tokens['oauth_token'],\n",
        "                  authentication_tokens['oauth_token_secret'])\n",
        "\n",
        "authorized_tokens = twitter.get_authorized_tokens(VERIFIER)"
      ]
    },
    {
      "cell_type": "code",
      "execution_count": null,
      "metadata": {
        "id": "rDK3asxDJ5Pf"
      },
      "outputs": [],
      "source": [
        "twitter = Twython(API_KEY, API_SECRET_KEY,\n",
        "                  authorized_tokens['oauth_token'],\n",
        "                  authorized_tokens['oauth_token_secret'])\n",
        "\n",
        "twitter.verify_credentials()"
      ]
    },
    {
      "cell_type": "markdown",
      "metadata": {
        "id": "qYwxkA7kVMvK"
      },
      "source": [
        "# Getting data of last interactions"
      ]
    },
    {
      "cell_type": "code",
      "execution_count": 2,
      "metadata": {
        "id": "nDuOAGYfRxip"
      },
      "outputs": [],
      "source": [
        "# Getting List of twits used in the last interactions\n",
        "list_in_csv = pd.read_csv('list_twits_used')\n",
        "twit_used = []\n",
        "twit_used.extend(list_in_csv.loc[:,'id'])\n",
        "\n",
        "# Getting Graph in the last interactions\n",
        "D = nx.read_graphml('GraphOlympics.graphml')"
      ]
    },
    {
      "cell_type": "markdown",
      "metadata": {
        "id": "QFDt1qqVlXp1"
      },
      "source": [
        "# Let's do something amazing!"
      ]
    },
    {
      "cell_type": "markdown",
      "metadata": {
        "id": "vHm_emAE-3Wd"
      },
      "source": [
        "## Taking Tweets"
      ]
    },
    {
      "cell_type": "markdown",
      "metadata": {
        "id": "ywDoq3Sh6ZUW"
      },
      "source": [
        "- Inglês – olympics\n",
        "- Chinês mandarim – 奧運會\n",
        "- Hindi – ओलंपिक\n",
        "- Espanhol – olimpicos\n",
        "- Árabe padrão – دورة الالعاب الاولمبية\n",
        "- Bengali – অলিম্পিক\n",
        "- Francês – olympiques\n",
        "- Russo – Олимпийские игры\n",
        "- Português – olimpiadas\n",
        "- Japonês – オリンピック"
      ]
    },
    {
      "cell_type": "code",
      "execution_count": null,
      "metadata": {
        "id": "XkmVlA_z9wKd"
      },
      "outputs": [],
      "source": [
        "import itertools"
      ]
    },
    {
      "cell_type": "code",
      "execution_count": null,
      "metadata": {
        "id": "Thl-VvbpL1mi"
      },
      "outputs": [],
      "source": [
        "NUM_TWEETS_TO_FETCH = 1000"
      ]
    },
    {
      "cell_type": "code",
      "execution_count": null,
      "metadata": {
        "colab": {
          "base_uri": "https://localhost:8080/"
        },
        "id": "0tTP_0Jj7MeX",
        "outputId": "8fa1495d-f44e-48b7-c551-feb9210e50e5"
      },
      "outputs": [
        {
          "data": {
            "text/plain": [
              "1000"
            ]
          },
          "execution_count": 10,
          "metadata": {},
          "output_type": "execute_result"
        }
      ],
      "source": [
        "cursor_ingles = twitter.cursor(twitter.search, q='olympics', count=100, result_type='mixed')\n",
        "search_tweets_ingles = list(itertools.islice(cursor_ingles, NUM_TWEETS_TO_FETCH))\n",
        "len(search_tweets_ingles)"
      ]
    },
    {
      "cell_type": "code",
      "execution_count": null,
      "metadata": {
        "colab": {
          "base_uri": "https://localhost:8080/"
        },
        "id": "HkCMviP_7SJu",
        "outputId": "a218466c-15cf-4018-f50d-4a6639b4c344"
      },
      "outputs": [
        {
          "data": {
            "text/plain": [
              "1000"
            ]
          },
          "execution_count": 11,
          "metadata": {},
          "output_type": "execute_result"
        }
      ],
      "source": [
        "cursor_mandarim = twitter.cursor(twitter.search, q='奧運會', count=100, result_type='mixed')\n",
        "search_tweets_mandarim = list(itertools.islice(cursor_mandarim, NUM_TWEETS_TO_FETCH))\n",
        "len(search_tweets_mandarim)"
      ]
    },
    {
      "cell_type": "code",
      "execution_count": null,
      "metadata": {
        "colab": {
          "base_uri": "https://localhost:8080/"
        },
        "id": "GanHob2D7T7W",
        "outputId": "b9ebcf06-8bc5-4687-9178-25d7e99141a2"
      },
      "outputs": [
        {
          "data": {
            "text/plain": [
              "150"
            ]
          },
          "execution_count": 12,
          "metadata": {},
          "output_type": "execute_result"
        }
      ],
      "source": [
        "cursor_hindi = twitter.cursor(twitter.search, q='ओलंपिक', count=100, result_type='mixed')\n",
        "search_tweets_hindi = list(itertools.islice(cursor_hindi, NUM_TWEETS_TO_FETCH))\n",
        "len(search_tweets_hindi)"
      ]
    },
    {
      "cell_type": "code",
      "execution_count": null,
      "metadata": {
        "colab": {
          "base_uri": "https://localhost:8080/"
        },
        "id": "O0KY-Suc7UO2",
        "outputId": "4b15b3c4-044c-4e45-d731-bcf864667559"
      },
      "outputs": [
        {
          "data": {
            "text/plain": [
              "1000"
            ]
          },
          "execution_count": 13,
          "metadata": {},
          "output_type": "execute_result"
        }
      ],
      "source": [
        "cursor_espanhol = twitter.cursor(twitter.search, q='olimpicos', count=100, result_type='mixed')\n",
        "search_tweets_espanhol = list(itertools.islice(cursor_espanhol, NUM_TWEETS_TO_FETCH))\n",
        "len(search_tweets_espanhol)"
      ]
    },
    {
      "cell_type": "code",
      "execution_count": null,
      "metadata": {
        "colab": {
          "base_uri": "https://localhost:8080/"
        },
        "id": "rLft3zeQ7VTu",
        "outputId": "6ede70fa-d3f3-4589-93ff-4466c25cf017"
      },
      "outputs": [
        {
          "data": {
            "text/plain": [
              "585"
            ]
          },
          "execution_count": 14,
          "metadata": {},
          "output_type": "execute_result"
        }
      ],
      "source": [
        "cursor_arabe = twitter.cursor(twitter.search, q='دورة الالعاب الاولمبية', count=100, result_type='mixed')\n",
        "search_tweets_arabe = list(itertools.islice(cursor_arabe, NUM_TWEETS_TO_FETCH))\n",
        "len(search_tweets_arabe)"
      ]
    },
    {
      "cell_type": "code",
      "execution_count": null,
      "metadata": {
        "colab": {
          "base_uri": "https://localhost:8080/"
        },
        "id": "-CaKnZTp7Vnt",
        "outputId": "af30ff45-aa59-45ff-f76a-a32e995fd53d"
      },
      "outputs": [
        {
          "data": {
            "text/plain": [
              "7"
            ]
          },
          "execution_count": 15,
          "metadata": {},
          "output_type": "execute_result"
        }
      ],
      "source": [
        "cursor_bengali = twitter.cursor(twitter.search, q='অলিম্পিক', count=100, result_type='mixed')\n",
        "search_tweets_bengali = list(itertools.islice(cursor_bengali, NUM_TWEETS_TO_FETCH))\n",
        "len(search_tweets_bengali)"
      ]
    },
    {
      "cell_type": "code",
      "execution_count": null,
      "metadata": {
        "colab": {
          "base_uri": "https://localhost:8080/"
        },
        "id": "CQpVZrCh7V9d",
        "outputId": "e58a884d-b906-4f93-e0bf-cfcb97527645"
      },
      "outputs": [
        {
          "data": {
            "text/plain": [
              "1000"
            ]
          },
          "execution_count": 16,
          "metadata": {},
          "output_type": "execute_result"
        }
      ],
      "source": [
        "cursor_frances = twitter.cursor(twitter.search, q='olympiques', count=100, result_type='mixed')\n",
        "search_tweets_frances = list(itertools.islice(cursor_frances, NUM_TWEETS_TO_FETCH))\n",
        "len(search_tweets_frances)"
      ]
    },
    {
      "cell_type": "code",
      "execution_count": null,
      "metadata": {
        "colab": {
          "base_uri": "https://localhost:8080/"
        },
        "id": "NA4Il-V97WT2",
        "outputId": "c1ec8eb5-3253-4198-e39c-d983c119252b"
      },
      "outputs": [
        {
          "data": {
            "text/plain": [
              "1000"
            ]
          },
          "execution_count": 17,
          "metadata": {},
          "output_type": "execute_result"
        }
      ],
      "source": [
        "cursor_russo = twitter.cursor(twitter.search, q='Олимпийские игры', count=100, result_type='mixed')\n",
        "search_tweets_russo = list(itertools.islice(cursor_russo, NUM_TWEETS_TO_FETCH))\n",
        "len(search_tweets_russo)"
      ]
    },
    {
      "cell_type": "code",
      "execution_count": null,
      "metadata": {
        "colab": {
          "base_uri": "https://localhost:8080/"
        },
        "id": "K0KFwQmO7WsO",
        "outputId": "f7f849c0-e58d-41e7-bdfd-ad34b968d2f4"
      },
      "outputs": [
        {
          "data": {
            "text/plain": [
              "1000"
            ]
          },
          "execution_count": 18,
          "metadata": {},
          "output_type": "execute_result"
        }
      ],
      "source": [
        "cursor_portugues = twitter.cursor(twitter.search, q='olimpiadas', count=100, result_type='mixed')\n",
        "search_tweets_portugues = list(itertools.islice(cursor_portugues, NUM_TWEETS_TO_FETCH))\n",
        "len(search_tweets_portugues)"
      ]
    },
    {
      "cell_type": "code",
      "execution_count": null,
      "metadata": {
        "colab": {
          "base_uri": "https://localhost:8080/"
        },
        "id": "am_zwwyk7XCP",
        "outputId": "6918eb2a-edbc-42b8-9ec7-f8f124da8671"
      },
      "outputs": [
        {
          "data": {
            "text/plain": [
              "1000"
            ]
          },
          "execution_count": 19,
          "metadata": {},
          "output_type": "execute_result"
        }
      ],
      "source": [
        "cursor_japones = twitter.cursor(twitter.search, q='オリンピック競技', count=100, result_type='mixed')\n",
        "search_tweets_japones = list(itertools.islice(cursor_japones, NUM_TWEETS_TO_FETCH))\n",
        "len(search_tweets_japones)"
      ]
    },
    {
      "cell_type": "code",
      "execution_count": null,
      "metadata": {
        "colab": {
          "base_uri": "https://localhost:8080/"
        },
        "id": "R2LnRRCVO-ia",
        "outputId": "02efef9d-c8c7-4100-cb58-b97a4dfb1652"
      },
      "outputs": [
        {
          "data": {
            "text/plain": [
              "{'/search/tweets': {'limit': 180, 'remaining': 95, 'reset': 1644936474}}"
            ]
          },
          "execution_count": 20,
          "metadata": {},
          "output_type": "execute_result"
        }
      ],
      "source": [
        "# limit status I can get\n",
        "twitter.get_application_rate_limit_status()['resources']['search']"
      ]
    },
    {
      "cell_type": "markdown",
      "metadata": {
        "id": "sb_EOJeO-2AF"
      },
      "source": [
        "## Append data in Graph"
      ]
    },
    {
      "cell_type": "code",
      "execution_count": null,
      "metadata": {
        "id": "u13mCE6gBA0z"
      },
      "outputs": [],
      "source": [
        "# Used on the first day where no data was collected\n",
        "D = nx.DiGraph()\n",
        "twit_used = []"
      ]
    },
    {
      "cell_type": "code",
      "execution_count": null,
      "metadata": {
        "colab": {
          "base_uri": "https://localhost:8080/"
        },
        "id": "Fs0BHfWOSscl",
        "outputId": "4f87e564-659d-4cd1-dc95-1dc61837f865"
      },
      "outputs": [
        {
          "data": {
            "text/plain": [
              "37085"
            ]
          },
          "execution_count": 21,
          "metadata": {},
          "output_type": "execute_result"
        }
      ],
      "source": [
        "# number of tweets used now\n",
        "len(twit_used)"
      ]
    },
    {
      "cell_type": "code",
      "execution_count": null,
      "metadata": {
        "id": "DleupIoA_Mqm"
      },
      "outputs": [],
      "source": [
        "# Getting tweets in english\n",
        "for tweet in search_tweets_ingles:\n",
        "    tweet_sn = tweet['user']['screen_name']\n",
        "    if tweet['id'] not in twit_used:\n",
        "        for user_mention in tweet['entities']['user_mentions']:\n",
        "            mentioned_sn = user_mention['screen_name']\n",
        "            \n",
        "            twit_used.append(tweet['id'])\n",
        "            my_edge = (tweet_sn, mentioned_sn)\n",
        "            if D.has_edge(*my_edge):\n",
        "                D.edges[my_edge]['weight'] += 1\n",
        "            else:\n",
        "                D.add_edge(*my_edge, weight=1)\n",
        "\n",
        "# Getting tweets in Mandarin\n",
        "for tweet in search_tweets_mandarim:\n",
        "    tweet_sn = tweet['user']['screen_name']\n",
        "    if tweet['id'] not in twit_used:\n",
        "        for user_mention in tweet['entities']['user_mentions']:\n",
        "            mentioned_sn = user_mention['screen_name']\n",
        "            \n",
        "            twit_used.append(tweet['id'])\n",
        "            my_edge = (tweet_sn, mentioned_sn)\n",
        "            if D.has_edge(*my_edge):\n",
        "                D.edges[my_edge]['weight'] += 1\n",
        "            else:\n",
        "                D.add_edge(*my_edge, weight=1)                \n",
        "\n",
        "# Getting tweets in Hindi\n",
        "for tweet in search_tweets_hindi:\n",
        "    tweet_sn = tweet['user']['screen_name']\n",
        "    if tweet['id'] not in twit_used:\n",
        "        for user_mention in tweet['entities']['user_mentions']:\n",
        "            mentioned_sn = user_mention['screen_name']\n",
        "            \n",
        "            twit_used.append(tweet['id'])\n",
        "            my_edge = (tweet_sn, mentioned_sn)\n",
        "            if D.has_edge(*my_edge):\n",
        "                D.edges[my_edge]['weight'] += 1\n",
        "            else:\n",
        "                D.add_edge(*my_edge, weight=1)     \n",
        "\n",
        "# Getting tweets in spanish\n",
        "for tweet in search_tweets_espanhol:\n",
        "    tweet_sn = tweet['user']['screen_name']\n",
        "    if tweet['id'] not in twit_used:\n",
        "        for user_mention in tweet['entities']['user_mentions']:\n",
        "            mentioned_sn = user_mention['screen_name']\n",
        "            \n",
        "            twit_used.append(tweet['id'])\n",
        "            my_edge = (tweet_sn, mentioned_sn)\n",
        "            if D.has_edge(*my_edge):\n",
        "                D.edges[my_edge]['weight'] += 1\n",
        "            else:\n",
        "                D.add_edge(*my_edge, weight=1)         \n",
        "\n",
        "# Getting tweets in Arabic\n",
        "for tweet in search_tweets_arabe:\n",
        "    tweet_sn = tweet['user']['screen_name']\n",
        "    if tweet['id'] not in twit_used:\n",
        "        for user_mention in tweet['entities']['user_mentions']:\n",
        "            mentioned_sn = user_mention['screen_name']\n",
        "            \n",
        "            twit_used.append(tweet['id'])\n",
        "            my_edge = (tweet_sn, mentioned_sn)\n",
        "            if D.has_edge(*my_edge):\n",
        "                D.edges[my_edge]['weight'] += 1\n",
        "            else:\n",
        "                D.add_edge(*my_edge, weight=1)                       \n",
        "\n",
        "# Getting tweets in Bengali\n",
        "for tweet in search_tweets_bengali:\n",
        "    tweet_sn = tweet['user']['screen_name']\n",
        "    if tweet['id'] not in twit_used:\n",
        "        for user_mention in tweet['entities']['user_mentions']:\n",
        "            mentioned_sn = user_mention['screen_name']\n",
        "            \n",
        "            twit_used.append(tweet['id'])\n",
        "            my_edge = (tweet_sn, mentioned_sn)\n",
        "            if D.has_edge(*my_edge):\n",
        "                D.edges[my_edge]['weight'] += 1\n",
        "            else:\n",
        "                D.add_edge(*my_edge, weight=1)             \n",
        "\n",
        "# Getting tweets in French\n",
        "for tweet in search_tweets_frances:\n",
        "    tweet_sn = tweet['user']['screen_name']\n",
        "    if tweet['id'] not in twit_used:\n",
        "        for user_mention in tweet['entities']['user_mentions']:\n",
        "            mentioned_sn = user_mention['screen_name']\n",
        "            \n",
        "            twit_used.append(tweet['id'])\n",
        "            my_edge = (tweet_sn, mentioned_sn)\n",
        "            if D.has_edge(*my_edge):\n",
        "                D.edges[my_edge]['weight'] += 1\n",
        "            else:\n",
        "                D.add_edge(*my_edge, weight=1)   \n",
        "\n",
        "# Getting tweets in Russian      \n",
        "for tweet in search_tweets_russo:\n",
        "    tweet_sn = tweet['user']['screen_name']\n",
        "    if tweet['id'] not in twit_used:\n",
        "        for user_mention in tweet['entities']['user_mentions']:\n",
        "            mentioned_sn = user_mention['screen_name']\n",
        "            \n",
        "            twit_used.append(tweet['id'])\n",
        "            my_edge = (tweet_sn, mentioned_sn)\n",
        "            if D.has_edge(*my_edge):\n",
        "                D.edges[my_edge]['weight'] += 1\n",
        "            else:\n",
        "                D.add_edge(*my_edge, weight=1)    \n",
        "\n",
        "# Getting tweets in Portuguese\n",
        "for tweet in search_tweets_portugues:\n",
        "    tweet_sn = tweet['user']['screen_name']\n",
        "    if tweet['id'] not in twit_used:\n",
        "        for user_mention in tweet['entities']['user_mentions']:\n",
        "            mentioned_sn = user_mention['screen_name']\n",
        "            \n",
        "            twit_used.append(tweet['id'])\n",
        "            my_edge = (tweet_sn, mentioned_sn)\n",
        "            if D.has_edge(*my_edge):\n",
        "                D.edges[my_edge]['weight'] += 1\n",
        "            else:\n",
        "                D.add_edge(*my_edge, weight=1)     \n",
        "\n",
        "# Getting tweets in Japanese\n",
        "for tweet in search_tweets_japones:\n",
        "    tweet_sn = tweet['user']['screen_name']\n",
        "    if tweet['id'] not in twit_used:\n",
        "        for user_mention in tweet['entities']['user_mentions']:\n",
        "            mentioned_sn = user_mention['screen_name']\n",
        "            \n",
        "            twit_used.append(tweet['id'])\n",
        "            my_edge = (tweet_sn, mentioned_sn)\n",
        "            if D.has_edge(*my_edge):\n",
        "                D.edges[my_edge]['weight'] += 1\n",
        "            else:\n",
        "                D.add_edge(*my_edge, weight=1)                                                                  "
      ]
    },
    {
      "cell_type": "code",
      "execution_count": null,
      "metadata": {
        "colab": {
          "base_uri": "https://localhost:8080/"
        },
        "id": "Ko_aoYRDNYZx",
        "outputId": "c87d36bf-e16f-4ac7-c4b4-8280451e69d2"
      },
      "outputs": [
        {
          "data": {
            "text/plain": [
              "41298"
            ]
          },
          "execution_count": 23,
          "metadata": {},
          "output_type": "execute_result"
        }
      ],
      "source": [
        "# number of tweets used now\n",
        "len(twit_used)"
      ]
    },
    {
      "cell_type": "code",
      "execution_count": null,
      "metadata": {
        "colab": {
          "background_save": true
        },
        "id": "BKIqFt5iN_WD",
        "outputId": "f62f95c0-d75a-421e-e4d0-f0aa07a81b2b"
      },
      "outputs": [
        {
          "data": {
            "image/png": "[encoded data removed]",
            "text/plain": [
              "<Figure size 432x288 with 1 Axes>"
            ]
          },
          "metadata": {},
          "output_type": "display_data"
        }
      ],
      "source": [
        "# Draw graph of out degree\n",
        "node_sizes = [D.out_degree(n, weight='weight') * 50 for n in D.nodes]\n",
        "\n",
        "%matplotlib inline\n",
        "nx.draw(D, node_size=node_sizes)"
      ]
    },
    {
      "cell_type": "code",
      "source": [
        "# Draw graph of in degree\n",
        "node_sizes = [D.in_degree(n, weight='weight') * 50 for n in D.nodes]\n",
        "\n",
        "%matplotlib inline\n",
        "nx.draw(D, node_size=node_sizes)"
      ],
      "metadata": {
        "colab": {
          "base_uri": "https://localhost:8080/",
          "height": 319
        },
        "id": "5cVFSfgfPqs5",
        "outputId": "b43ac317-bb11-44cf-d1cd-1c4dbb74f5c8"
      },
      "execution_count": 3,
      "outputs": [
        {
          "output_type": "display_data",
          "data": {
            "image/png": "[encoded data removed]",
            "text/plain": [
              "<Figure size 432x288 with 1 Axes>"
            ]
          },
          "metadata": {}
        }
      ]
    },
    {
      "cell_type": "markdown",
      "metadata": {
        "id": "AdvPRpBXROzh"
      },
      "source": [
        "## Saving data to including more next time"
      ]
    },
    {
      "cell_type": "code",
      "execution_count": null,
      "metadata": {
        "id": "pCKu2MstPp1S"
      },
      "outputs": [],
      "source": [
        "# Search tweets\n",
        "dict_ = {'id': []}\n",
        "for tweet in twit_used:\n",
        "    dict_['id'].append(tweet)\n",
        "\n",
        "# Structure data in a pandas DataFrame for easier manipulation\n",
        "df = pd.DataFrame(dict_)\n",
        "\n",
        "# Save list of twits usedin csv to export next time\n",
        "df.to_csv('list_twits_used')\n",
        "\n",
        "# Save Graph to export next time\n",
        "nx.write_graphml(D, 'GraphOlympics.graphml')"
      ]
    },
    {
      "cell_type": "code",
      "execution_count": null,
      "metadata": {
        "colab": {
          "base_uri": "https://localhost:8080/"
        },
        "id": "iiBqO8GVTFk2",
        "outputId": "d094226c-8794-4c44-9961-20b847a1455b"
      },
      "outputs": [
        {
          "data": {
            "text/plain": [
              "38119"
            ]
          },
          "execution_count": 5,
          "metadata": {},
          "output_type": "execute_result"
        }
      ],
      "source": [
        "len(D.nodes)"
      ]
    },
    {
      "cell_type": "markdown",
      "metadata": {
        "id": "CdPBM22JYWqK"
      },
      "source": [
        "# Taking the top three most cited"
      ]
    },
    {
      "cell_type": "code",
      "execution_count": null,
      "metadata": {
        "colab": {
          "base_uri": "https://localhost:8080/"
        },
        "id": "8ei9D_rJUwb1",
        "outputId": "3d02a985-4838-4738-f3f6-cf20ab592224"
      },
      "outputs": [
        {
          "data": {
            "text/plain": [
              "[('MichelidaSilva_', 62), ('TheOneAngels', 47), ('bb_vyld', 29)]"
            ]
          },
          "execution_count": 7,
          "metadata": {},
          "output_type": "execute_result"
        }
      ],
      "source": [
        "# Who else is mentioned\n",
        "from operator import itemgetter\n",
        "\n",
        "sorted(D.out_degree(weight='weight'), key=itemgetter(1), reverse=True)[:3]"
      ]
    },
    {
      "cell_type": "code",
      "execution_count": null,
      "metadata": {
        "colab": {
          "base_uri": "https://localhost:8080/"
        },
        "id": "eMqmS2UZ1Jss",
        "outputId": "fa4b366f-af80-4192-ad2b-33bc6ed4929b"
      },
      "outputs": [
        {
          "data": {
            "text/plain": [
              "[('Japan_Olympic', 929), ('Olympics', 820), ('francetvsport', 742)]"
            ]
          },
          "execution_count": 7,
          "metadata": {},
          "output_type": "execute_result"
        }
      ],
      "source": [
        "# Who else mentions\n",
        "sorted(D.in_degree(weight='weight'), key=itemgetter(1), reverse=True)[:3]"
      ]
    }
  ],
  "metadata": {
    "colab": {
      "collapsed_sections": [],
      "name": "Analise trabalho 3.ipynb",
      "provenance": []
    },
    "kernelspec": {
      "display_name": "Python 3",
      "name": "python3"
    },
    "language_info": {
      "name": "python"
    }
  },
  "nbformat": 4,
  "nbformat_minor": 0
}